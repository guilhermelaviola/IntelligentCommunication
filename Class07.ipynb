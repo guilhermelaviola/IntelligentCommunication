{
  "nbformat": 4,
  "nbformat_minor": 0,
  "metadata": {
    "colab": {
      "provenance": [],
      "authorship_tag": "ABX9TyPrez4r3TlOontZaAItUT5r",
      "include_colab_link": true
    },
    "kernelspec": {
      "name": "python3",
      "display_name": "Python 3"
    },
    "language_info": {
      "name": "python"
    }
  },
  "cells": [
    {
      "cell_type": "markdown",
      "metadata": {
        "id": "view-in-github",
        "colab_type": "text"
      },
      "source": [
        "<a href=\"https://colab.research.google.com/github/guilhermelaviola/IntelligentCommunication/blob/main/Class07.ipynb\" target=\"_parent\"><img src=\"https://colab.research.google.com/assets/colab-badge.svg\" alt=\"Open In Colab\"/></a>"
      ]
    },
    {
      "cell_type": "code",
      "execution_count": null,
      "metadata": {
        "id": "DDoBEO9XX9K-"
      },
      "outputs": [],
      "source": [
        "# Importing all the necessary libraries and resources:\n",
        "from sklearn.feature_extraction.text import TfidfVectorizer\n",
        "from sklearn.metrics.pairwise import cosine_similarity\n",
        "\n",
        "# Defining the classes Question and Answer:\n",
        "class Question:\n",
        "    def __init__(self, id, text):\n",
        "        self.id = id\n",
        "        self.text = text\n",
        "\n",
        "class Answer:\n",
        "    def __init__(self, id, text, question_id):\n",
        "        self.id = id\n",
        "        self.text = text\n",
        "        self.question_id = question_id\n",
        "\n",
        "# Defining the class to manipulate the database:\n",
        "class QADatabase:\n",
        "    def __init__(self):\n",
        "        self.Questions = []\n",
        "        self.Answers = []\n",
        "\n",
        "    def add_question(self, Question):\n",
        "        self.Questions.append(Question)\n",
        "\n",
        "    def add_answer(self, Answer):\n",
        "        self.Answers.append(Answer)\n",
        "\n",
        "    def find_answer(self, Question_text):\n",
        "        # Checking if there are questions and answers:\n",
        "        if not self.Questions or not self.Answers:\n",
        "            return None\n",
        "\n",
        "        # Creating a new list with texts of questions and answers:\n",
        "        texts = [p.text for p in self.Questions] + [r.text for r in self.Answers]\n",
        "\n",
        "        # Using TF-IDF to represent texts:\n",
        "        vectorizer = TfidfVectorizer()\n",
        "        tfidf_matrix = vectorizer.fit_transform(texts)\n",
        "\n",
        "        # Extracting the vector of the user question:\n",
        "        question_vector = vectorizer.transform([question_text])\n",
        "        answers_vector = tfidf_matrix[len(self.Questions):]  # Vetores de Answers\n",
        "\n",
        "        # Calculating the similarity:\n",
        "        similarities = cosine_similarity(question_vector, answers_vector).flatten()\n",
        "\n",
        "        # Checking the best correspondence:\n",
        "        best_correspondence = similarities.argmax()\n",
        "        if similarities[best_correspondence] > 0:\n",
        "            return self.Answers[best_correspondence]\n",
        "        return None\n",
        "\n",
        "\n",
        "# Creating the questions and answers database:\n",
        "db = QADatabase()\n",
        "\n",
        "# Adding the questions:\n",
        "db.add_question(Question(1, \"What's the capital city of Italy?\"))\n",
        "db.add_question(Question(2, \"Who was Queen's frontman?\"))\n",
        "\n",
        "# Adding the answers:\n",
        "db.add_answer(Answer(1, \"The capital city of Italy is Rome.\", 1))\n",
        "db.add_answer(Answer(2, \"Freddie Mercury.\", 2))\n",
        "\n",
        "# Loop for the user to make questions:\n",
        "while True:\n",
        "    user_question = input(\"\\nEnter your question (or type 'exit' to leave): \")\n",
        "    if user_question.lower() == 'exit':\n",
        "        print(\"Ending the program.\")\n",
        "        break\n",
        "\n",
        "    answer_found = db.find_answer(user_question)\n",
        "\n",
        "    if answer_found:\n",
        "        print(f\"Answer found: {answer_found.text}\")\n",
        "    else:\n",
        "        print(\"Answer not found.\")\n"
      ]
    }
  ]
}
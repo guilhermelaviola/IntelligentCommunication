{
  "nbformat": 4,
  "nbformat_minor": 0,
  "metadata": {
    "colab": {
      "provenance": [],
      "authorship_tag": "ABX9TyPrez4r3TlOontZaAItUT5r",
      "include_colab_link": true
    },
    "kernelspec": {
      "name": "python3",
      "display_name": "Python 3"
    },
    "language_info": {
      "name": "python"
    }
  },
  "cells": [
    {
      "cell_type": "markdown",
      "metadata": {
        "id": "view-in-github",
        "colab_type": "text"
      },
      "source": [
        "<a href=\"https://colab.research.google.com/github/guilhermelaviola/IntelligentCommunication/blob/main/Class07.ipynb\" target=\"_parent\"><img src=\"https://colab.research.google.com/assets/colab-badge.svg\" alt=\"Open In Colab\"/></a>"
      ]
    },
    {
      "cell_type": "code",
      "execution_count": 2,
      "metadata": {
        "colab": {
          "base_uri": "https://localhost:8080/",
          "height": 367
        },
        "id": "DDoBEO9XX9K-",
        "outputId": "17a62730-86e3-4d92-ff01-c70e8e29c32f"
      },
      "outputs": [
        {
          "name": "stdout",
          "output_type": "stream",
          "text": [
            "\n",
            "Enter your question (or type 'exit' to leave): What's the capital city of Italy?\n"
          ]
        },
        {
          "output_type": "error",
          "ename": "NameError",
          "evalue": "name 'question_text' is not defined",
          "traceback": [
            "\u001b[0;31m---------------------------------------------------------------------------\u001b[0m",
            "\u001b[0;31mNameError\u001b[0m                                 Traceback (most recent call last)",
            "\u001b[0;32m/tmp/ipython-input-1843109571.py\u001b[0m in \u001b[0;36m<cell line: 0>\u001b[0;34m()\u001b[0m\n\u001b[1;32m     71\u001b[0m         \u001b[0;32mbreak\u001b[0m\u001b[0;34m\u001b[0m\u001b[0;34m\u001b[0m\u001b[0m\n\u001b[1;32m     72\u001b[0m \u001b[0;34m\u001b[0m\u001b[0m\n\u001b[0;32m---> 73\u001b[0;31m     \u001b[0manswer_found\u001b[0m \u001b[0;34m=\u001b[0m \u001b[0mdb\u001b[0m\u001b[0;34m.\u001b[0m\u001b[0mfind_answer\u001b[0m\u001b[0;34m(\u001b[0m\u001b[0muser_question\u001b[0m\u001b[0;34m)\u001b[0m\u001b[0;34m\u001b[0m\u001b[0;34m\u001b[0m\u001b[0m\n\u001b[0m\u001b[1;32m     74\u001b[0m \u001b[0;34m\u001b[0m\u001b[0m\n\u001b[1;32m     75\u001b[0m     \u001b[0;32mif\u001b[0m \u001b[0manswer_found\u001b[0m\u001b[0;34m:\u001b[0m\u001b[0;34m\u001b[0m\u001b[0;34m\u001b[0m\u001b[0m\n",
            "\u001b[0;32m/tmp/ipython-input-1843109571.py\u001b[0m in \u001b[0;36mfind_answer\u001b[0;34m(self, Question_text)\u001b[0m\n\u001b[1;32m     40\u001b[0m \u001b[0;34m\u001b[0m\u001b[0m\n\u001b[1;32m     41\u001b[0m         \u001b[0;31m# Extracting the vector of the user question:\u001b[0m\u001b[0;34m\u001b[0m\u001b[0;34m\u001b[0m\u001b[0m\n\u001b[0;32m---> 42\u001b[0;31m         \u001b[0mquestion_vector\u001b[0m \u001b[0;34m=\u001b[0m \u001b[0mvectorizer\u001b[0m\u001b[0;34m.\u001b[0m\u001b[0mtransform\u001b[0m\u001b[0;34m(\u001b[0m\u001b[0;34m[\u001b[0m\u001b[0mquestion_text\u001b[0m\u001b[0;34m]\u001b[0m\u001b[0;34m)\u001b[0m\u001b[0;34m\u001b[0m\u001b[0;34m\u001b[0m\u001b[0m\n\u001b[0m\u001b[1;32m     43\u001b[0m         \u001b[0manswers_vector\u001b[0m \u001b[0;34m=\u001b[0m \u001b[0mtfidf_matrix\u001b[0m\u001b[0;34m[\u001b[0m\u001b[0mlen\u001b[0m\u001b[0;34m(\u001b[0m\u001b[0mself\u001b[0m\u001b[0;34m.\u001b[0m\u001b[0mQuestions\u001b[0m\u001b[0;34m)\u001b[0m\u001b[0;34m:\u001b[0m\u001b[0;34m]\u001b[0m  \u001b[0;31m# Vetores de Answers\u001b[0m\u001b[0;34m\u001b[0m\u001b[0;34m\u001b[0m\u001b[0m\n\u001b[1;32m     44\u001b[0m \u001b[0;34m\u001b[0m\u001b[0m\n",
            "\u001b[0;31mNameError\u001b[0m: name 'question_text' is not defined"
          ]
        }
      ],
      "source": [
        "# Importing all the necessary libraries and resources:\n",
        "from sklearn.feature_extraction.text import TfidfVectorizer\n",
        "from sklearn.metrics.pairwise import cosine_similarity\n",
        "\n",
        "# Defining the classes Question and Answer:\n",
        "class Question:\n",
        "    def __init__(self, id, text):\n",
        "        self.id = id\n",
        "        self.text = text\n",
        "\n",
        "class Answer:\n",
        "    def __init__(self, id, text, question_id):\n",
        "        self.id = id\n",
        "        self.text = text\n",
        "        self.question_id = question_id\n",
        "\n",
        "# Defining the class to manipulate the database:\n",
        "class QADatabase:\n",
        "    def __init__(self):\n",
        "        self.Questions = []\n",
        "        self.Answers = []\n",
        "\n",
        "    def add_question(self, Question):\n",
        "        self.Questions.append(Question)\n",
        "\n",
        "    def add_answer(self, Answer):\n",
        "        self.Answers.append(Answer)\n",
        "\n",
        "    def find_answer(self, Question_text):\n",
        "        # Checking if there are questions and answers:\n",
        "        if not self.Questions or not self.Answers:\n",
        "            return None\n",
        "\n",
        "        # Creating a new list with texts of questions and answers:\n",
        "        texts = [p.text for p in self.Questions] + [r.text for r in self.Answers]\n",
        "\n",
        "        # Using TF-IDF to represent texts:\n",
        "        vectorizer = TfidfVectorizer()\n",
        "        tfidf_matrix = vectorizer.fit_transform(texts)\n",
        "\n",
        "        # Extracting the vector of the user question:\n",
        "        question_vector = vectorizer.transform([question_text])\n",
        "        answers_vector = tfidf_matrix[len(self.Questions):]  # Vetores de Answers\n",
        "\n",
        "        # Calculating the similarity:\n",
        "        similarities = cosine_similarity(question_vector, answers_vector).flatten()\n",
        "\n",
        "        # Checking the best correspondence:\n",
        "        best_correspondence = similarities.argmax()\n",
        "        if similarities[best_correspondence] > 0:\n",
        "            return self.Answers[best_correspondence]\n",
        "        return None\n",
        "\n",
        "\n",
        "# Creating the questions and answers database:\n",
        "db = QADatabase()\n",
        "\n",
        "# Adding the questions:\n",
        "db.add_question(Question(1, \"What's the capital city of Italy?\"))\n",
        "db.add_question(Question(2, \"Who was Queen's frontman?\"))\n",
        "\n",
        "# Adding the answers:\n",
        "db.add_answer(Answer(1, \"The capital city of Italy is Rome.\", 1))\n",
        "db.add_answer(Answer(2, \"Freddie Mercury.\", 2))\n",
        "\n",
        "# Loop for the user to make questions:\n",
        "while True:\n",
        "    user_question = input(\"\\nEnter your question (or type 'exit' to leave): \")\n",
        "    if user_question.lower() == 'exit':\n",
        "        print(\"Ending the program.\")\n",
        "        break\n",
        "\n",
        "    answer_found = db.find_answer(user_question)\n",
        "\n",
        "    if answer_found:\n",
        "        print(f\"Answer found: {answer_found.text}\")\n",
        "    else:\n",
        "        print(\"Answer not found.\")\n"
      ]
    }
  ]
}
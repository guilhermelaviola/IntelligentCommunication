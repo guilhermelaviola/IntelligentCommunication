{
  "nbformat": 4,
  "nbformat_minor": 0,
  "metadata": {
    "colab": {
      "provenance": [],
      "authorship_tag": "ABX9TyNTet+cXzHqRR73r9OjQ0l1",
      "include_colab_link": true
    },
    "kernelspec": {
      "name": "python3",
      "display_name": "Python 3"
    },
    "language_info": {
      "name": "python"
    }
  },
  "cells": [
    {
      "cell_type": "markdown",
      "metadata": {
        "id": "view-in-github",
        "colab_type": "text"
      },
      "source": [
        "<a href=\"https://colab.research.google.com/github/guilhermelaviola/IntelligentCommunication/blob/main/Class08.ipynb\" target=\"_parent\"><img src=\"https://colab.research.google.com/assets/colab-badge.svg\" alt=\"Open In Colab\"/></a>"
      ]
    },
    {
      "cell_type": "markdown",
      "source": [
        "# **Chatbot Integration**\n",
        "Efficient and engaging chatbots require a combination of natural language processing, intuitive interface design, and dynamic functionality implementation. Integrating with a question-and-answer database allows the chatbot to answer user queries quickly and accurately. Dynamic and adaptive responses allow the chatbot to personalize interactions based on context, user history, and individual preferences. Data about user behavior, such as previous interactions and frequently asked questions, can be used to tailor responses and provide more relevant information. Intent-based conversational flows guide users through the necessary steps to achieve their objectives. An intuitive user interface is crucial, with clear visual elements, multimedia components, and interactive features. Natural Language Processing (NLP) techniques, such as tokenization, stop word identification, and entity detection, help the chatbot understand and respond to human language. Tools like PyQt5 allow for the creation of graphical user interfaces, making interactions more user-friendly and intuitive. This combination of technologies can improve the overall user experience in various industries, including customer service, e-commerce, and entertainment."
      ],
      "metadata": {
        "id": "E_N_v4mNg4RJ"
      }
    },
    {
      "cell_type": "code",
      "metadata": {
        "colab": {
          "base_uri": "https://localhost:8080/"
        },
        "id": "c1a9330c",
        "outputId": "cae338c0-0e98-4a80-c191-b11c680ff272"
      },
      "source": [
        "!pip install PyQt5"
      ],
      "execution_count": 1,
      "outputs": [
        {
          "output_type": "stream",
          "name": "stdout",
          "text": [
            "Requirement already satisfied: PyQt5 in /usr/local/lib/python3.12/dist-packages (5.15.11)\n",
            "Requirement already satisfied: PyQt5-sip<13,>=12.15 in /usr/local/lib/python3.12/dist-packages (from PyQt5) (12.17.0)\n",
            "Requirement already satisfied: PyQt5-Qt5<5.16.0,>=5.15.2 in /usr/local/lib/python3.12/dist-packages (from PyQt5) (5.15.17)\n"
          ]
        }
      ]
    },
    {
      "cell_type": "code",
      "execution_count": 2,
      "metadata": {
        "colab": {
          "base_uri": "https://localhost:8080/"
        },
        "id": "N0rqx9ERklfn",
        "outputId": "24c3d86a-c8a9-4003-e11c-d7ed68176fff"
      },
      "outputs": [
        {
          "output_type": "stream",
          "name": "stderr",
          "text": [
            "[nltk_data] Downloading package punkt to /root/nltk_data...\n",
            "[nltk_data]   Package punkt is already up-to-date!\n",
            "[nltk_data] Downloading package stopwords to /root/nltk_data...\n",
            "[nltk_data]   Package stopwords is already up-to-date!\n"
          ]
        },
        {
          "output_type": "execute_result",
          "data": {
            "text/plain": [
              "True"
            ]
          },
          "metadata": {},
          "execution_count": 2
        }
      ],
      "source": [
        "# Importing all the necessary libraries and resources:\n",
        "import sys\n",
        "import nltk\n",
        "from PyQt5.QtWidgets import QApplication, QMainWindow, QTextEdit, QLineEdit, QPushButton, QVBoxLayout, QWidget\n",
        "from nltk.tokenize import word_tokenize\n",
        "from nltk.corpus import stopwords\n",
        "from sklearn.feature_extraction.text import TfidfVectorizer\n",
        "from sklearn.metrics.pairwise import cosine_similarity\n",
        "\n",
        "# Necessary NLTK resources:\n",
        "nltk.download('punkt')\n",
        "nltk.download('stopwords')"
      ]
    },
    {
      "cell_type": "code",
      "source": [
        "# Defining the data model:\n",
        "class Question:\n",
        "  def __init__(self, id, text):\n",
        "    self.id = id\n",
        "    self.text = text\n",
        "\n",
        "class Answer:\n",
        "  def __init__(self, id, question_id, text):\n",
        "    self.id = id\n",
        "    self.question_id = question_id\n",
        "    self.text = text\n",
        "\n",
        "# Database for questions and answers:\n",
        "questions = [\n",
        "    Question(1, 'What do you call a fake noodle?'),\n",
        "    Question(2, 'What do you call something that runs but never gets anywhere?'),\n",
        "    Question(3, 'What do you call something that’s easy to get into, but hard to get out of?')\n",
        "]\n",
        "\n",
        "answers = [\n",
        "    Answer(1, 1, 'An impasta!'),\n",
        "    Answer(2, 2, 'A refrigerator.'),\n",
        "    Answer(3, 3, 'Trouble.')\n",
        "]\n",
        "\n",
        "# Function to pre process the text:\n",
        "def preprocess_text(text):\n",
        "  tokens = word_tokenize(text.lower())\n",
        "  stop_words = set(stopwords.words('english'))\n",
        "  filtered_tokens = [token for token in tokens if token not in stop_words and token.isalpha()]\n",
        "  return ' '.join(filtered_tokens)\n",
        "\n",
        "# Function to find the best combination:\n",
        "def find_answer(user_question):\n",
        "  # Pre processing the questions and answers\n",
        "  processed_questions = [preprocess_text(p.text) for p in questions]\n",
        "\n",
        "  # Adding a user question to the question list:\n",
        "  processed_questions.append(preprocess_text(user_question))\n",
        "\n",
        "  # Calculating the the similarity using TF-IDF:\n",
        "  vectorizer = TfidfVectorizer()\n",
        "  tfidf_matrix = vectorizer.fit_transform(processed_questions)\n",
        "\n",
        "  # Calculating the similarity between user question and database questions:\n",
        "  similarity = cosine_similarity(tfidf_matrix[-1], tfidf_matrix[:-1])\n",
        "\n",
        "  # Finding the most similar question index:\n",
        "  most_similar_index = similarity.argmax()\n",
        "\n",
        "  # Returning the correspondent answer:\n",
        "  most_similar_answer = answers[most_similar_index]\n",
        "  return most_similar_answer.text\n",
        "\n",
        "# Defining the user interface using PyQt5:\n",
        "class ChatbotApp(QMainWindow):\n",
        "  def __init__(self):\n",
        "    super().__init__()\n",
        "\n",
        "    self.setWindowTitle('Chatbot')\n",
        "    self.setGeometry(100, 100, 500, 400)\n",
        "\n",
        "    # Interface layout:\n",
        "    layout = QVBoxLayout()\n",
        "\n",
        "     # Text box to display the chat:\n",
        "    self.chat_box = QTextEdit(self)\n",
        "    self.chat_box.setReadOnly(True)\n",
        "    layout.addWidget(self.chat_box)\n",
        "\n",
        "    # Text input for user question:\n",
        "    self.input_box = QLineEdit(self)\n",
        "    layout.addWidget(self.input_box)\n",
        "\n",
        "    # Send button\n",
        "    self.send_button = QPushButton('Send', self)\n",
        "    self.send_button.clicked.connect(self.send_question)\n",
        "    layout.addWidget(self.send_button)\n",
        "\n",
        "    # Central widget for layout:\n",
        "    container = QWidget()\n",
        "    container.setLayout(layout)\n",
        "    self.setCentralWidget(container)\n",
        "\n",
        "    # Function to send a question:\n",
        "    def send_question(self):\n",
        "      user_question = self.input_box.text()\n",
        "      if user_question.lower() == 'exit':\n",
        "        self.close()\n",
        "      else:\n",
        "        answer = find_answer(user_question)\n",
        "        self.chat_box.append('You: ' + user_question)\n",
        "        self.chat_box.append('Chatbot: ' + answer)\n",
        "        self.input_box.clear()\n",
        "\n",
        "# Main function to run the app\n",
        "def main():\n",
        "  app = QApplication(sys.argv)\n",
        "  chatbot = ChatbotApp()\n",
        "  chatbot.show()\n",
        "  sys.exit(app.exec_())\n",
        "\n",
        "if __name__ == '__main__':\n",
        "    main()\n"
      ],
      "metadata": {
        "id": "cYSJH5uRhRd3"
      },
      "execution_count": null,
      "outputs": []
    }
  ]
}
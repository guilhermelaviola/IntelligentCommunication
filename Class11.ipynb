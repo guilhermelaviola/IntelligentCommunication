{
  "nbformat": 4,
  "nbformat_minor": 0,
  "metadata": {
    "colab": {
      "provenance": [],
      "authorship_tag": "ABX9TyMJxiu4NEMniLt49wLkELNM",
      "include_colab_link": true
    },
    "kernelspec": {
      "name": "python3",
      "display_name": "Python 3"
    },
    "language_info": {
      "name": "python"
    }
  },
  "cells": [
    {
      "cell_type": "markdown",
      "metadata": {
        "id": "view-in-github",
        "colab_type": "text"
      },
      "source": [
        "<a href=\"https://colab.research.google.com/github/guilhermelaviola/IntelligentCommunication/blob/main/Class11.ipynb\" target=\"_parent\"><img src=\"https://colab.research.google.com/assets/colab-badge.svg\" alt=\"Open In Colab\"/></a>"
      ]
    },
    {
      "cell_type": "code",
      "execution_count": 1,
      "metadata": {
        "id": "R8savG_aceN3"
      },
      "outputs": [],
      "source": [
        "# Importing all the necessary libraries:\n",
        "import http.server\n",
        "import json\n",
        "import ssl\n",
        "from urllib.parse import urlparse\n",
        "import requests\n",
        "from base64 import b64decode\n",
        "from http import HTTPStatus"
      ]
    },
    {
      "cell_type": "code",
      "source": [
        "# API configuration:\n",
        "GOOGLE_API_KEY = 'YOUR_GOOGLE_API_KEY'  # Replace with your API key"
      ],
      "metadata": {
        "id": "NTJQUV_RcqoA"
      },
      "execution_count": null,
      "outputs": []
    }
  ]
}
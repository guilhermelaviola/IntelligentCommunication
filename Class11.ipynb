{
  "nbformat": 4,
  "nbformat_minor": 0,
  "metadata": {
    "colab": {
      "provenance": [],
      "authorship_tag": "ABX9TyOEcdEdYkTkS10INCOoxl/v",
      "include_colab_link": true
    },
    "kernelspec": {
      "name": "python3",
      "display_name": "Python 3"
    },
    "language_info": {
      "name": "python"
    }
  },
  "cells": [
    {
      "cell_type": "markdown",
      "metadata": {
        "id": "view-in-github",
        "colab_type": "text"
      },
      "source": [
        "<a href=\"https://colab.research.google.com/github/guilhermelaviola/IntelligentCommunication/blob/main/Class11.ipynb\" target=\"_parent\"><img src=\"https://colab.research.google.com/assets/colab-badge.svg\" alt=\"Open In Colab\"/></a>"
      ]
    },
    {
      "cell_type": "markdown",
      "source": [
        "# **API Security and Authentication**\n",
        "API security is vital for protecting data and ensuring only authorized access. Authentication verifies user identity, while authorization defines resource access levels, often using JWT tokens and OAuth 2.0. Cyberattack defenses include mitigating injection attacks through input validation and DDoS attacks with rate limits. Implementing HTTPS ensures encrypted data transmission, enhancing user confidence. Continuous monitoring and auditing of API activity are essential for identifying performance issues and detecting unauthorized access. A comprehensive API security strategy encompasses multiple layers and requires ongoing vigilance to adhere to best practices and protection mechanisms."
      ],
      "metadata": {
        "id": "Vct_TcAesIKw"
      }
    },
    {
      "cell_type": "code",
      "execution_count": 1,
      "metadata": {
        "id": "R8savG_aceN3"
      },
      "outputs": [],
      "source": [
        "# Importing all the necessary libraries:\n",
        "import http.server\n",
        "import json\n",
        "import ssl\n",
        "from urllib.parse import urlparse\n",
        "import requests\n",
        "from base64 import b64decode\n",
        "from http import HTTPStatus"
      ]
    },
    {
      "cell_type": "code",
      "source": [
        "# API configuration:\n",
        "GOOGLE_API_KEY = 'YOUR_GOOGLE_API_KEY'  # Replace with your API key"
      ],
      "metadata": {
        "id": "NTJQUV_RcqoA"
      },
      "execution_count": 2,
      "outputs": []
    },
    {
      "cell_type": "code",
      "source": [
        "# Class to manage the API:\n",
        "class MyRequestHandler(http.server.BaseHTTPRequestHandler):\n",
        "\n",
        "  def do_GET(self):\n",
        "    if self.path == '/protected':\n",
        "      if self.authenticate():\n",
        "        self.send_response(HTTPStatus.OK)\n",
        "        self.send_header('Content-type', 'application/json')\n",
        "        self.end_headers()\n",
        "        response = {'message': 'Protected content'}\n",
        "        self.wfile.write(json.dumps(response).encode())\n",
        "      else:\n",
        "        self.send_response(HTTPStatus.UNAUTHORIZED)\n",
        "        self.end_headers()\n",
        "        response = {'message': 'Unauthorized'}\n",
        "        self.wfile.write(json.dumps(response).encode())\n",
        "      else:\n",
        "        self.send_response(HTTPStatus.NOT_FOUND)\n",
        "        self.end_headers()\n",
        "\n",
        "      def do_POST(self):\n",
        "        if self.path == '/chat':\n",
        "          content_length = int(self.headers['Content-Length'])\n",
        "          post_data = self.rfile.read(content_length)\n",
        "          data = json.loads(post_data)\n",
        "\n",
        "          user_message = data.get('message')\n",
        "          bot_response = self.get_google_ai_response(user_message)\n",
        "\n",
        "          self.send_response(HTTPStatus.OK)\n",
        "          self.send_header('Content-type', 'application/json')\n",
        "          self.end_headers()\n",
        "          self.wfile.write(json.dumps({'response': bot_response}).encode())\n",
        "\n",
        "        else:\n",
        "          self.send_response(HTTPStatus.NOT_FOUND)\n",
        "          self.end_headers()\n",
        "\n",
        "        def authenticate(self):\n",
        "            auth_header = self.headers.get('Authorization')\n",
        "            if auth_header:\n",
        "              try:\n",
        "                auth_type, credentials = auth_header.split()\n",
        "                if auth_type.lower() == 'basic':\n",
        "                  decoded_credentials = b64decode(credentials).decode('utf-8')\n",
        "                  username, password = decoded_credentials.split(':')\n",
        "                  return username == 'user1' and password == 'password1'\n",
        "                except Exception:\n",
        "                return False\n",
        "              return False\n",
        "\n",
        "        def get_google_ai_response(self, user_message):\n",
        "          url = 'https://google.generativeai.googleapis.com/v1beta2/chat.completions:generate'\n",
        "          headers = {\n",
        "              'Content-Type': 'application/json',\n",
        "              'Authorization': f'Bearer {GOOGLE_API_KEY}'\n",
        "              }\n",
        "              body = {\n",
        "                  'messages': [{'role': 'user', 'content': user_message}],\n",
        "                  'model': 'gemini-1.5-pro-latest'  # Change it accordingly\n",
        "                  }\n",
        "\n",
        "              try:\n",
        "                response = requests.post(url, headers=headers, json=body)\n",
        "                response.raise_for_status()  # Throws an error as error response\n",
        "                return response.json().get('choices', [{}])[0].get('message', {}).get('content', 'No response')\n",
        "              except requests.RequestException as e:\n",
        "                return f'Error establishing communication with Google API: {str(e)}'\n",
        "\n",
        "# Function to start the server:\n",
        "def run(server_class=http.server.HTTPServer, handler_class=MyRequestHandler):\n",
        "  server_address = ('', 8080)\n",
        "  httpd = server_class(server_address, handler_class)\n",
        "\n",
        "  # SSL Configuration:\n",
        "  httpd.socket = ssl.wrap_socket(httpd.socket,\n",
        "                                 keyfile='path/to/your/server-key.pem',  # Insert the path for your private key file.\n",
        "                                 certfile='path/to/your/server-cert.pem',  # Insert the path for your certificate.\n",
        "                                 server_side=True)\n",
        "\n",
        "  print('Starting server on https://localhost:8080...')\n",
        "  httpd.serve_forever()\n",
        "\n",
        "if __name__ == '__main__':\n",
        "  run()"
      ],
      "metadata": {
        "id": "Ikrof20Jplq2",
        "outputId": "b2c7107f-f475-47c9-e222-7fe8096994e0",
        "colab": {
          "base_uri": "https://localhost:8080/",
          "height": 106
        }
      },
      "execution_count": 3,
      "outputs": [
        {
          "output_type": "error",
          "ename": "SyntaxError",
          "evalue": "invalid syntax (ipython-input-159881232.py, line 17)",
          "traceback": [
            "\u001b[0;36m  File \u001b[0;32m\"/tmp/ipython-input-159881232.py\"\u001b[0;36m, line \u001b[0;32m17\u001b[0m\n\u001b[0;31m    else:\u001b[0m\n\u001b[0m    ^\u001b[0m\n\u001b[0;31mSyntaxError\u001b[0m\u001b[0;31m:\u001b[0m invalid syntax\n"
          ]
        }
      ]
    }
  ]
}
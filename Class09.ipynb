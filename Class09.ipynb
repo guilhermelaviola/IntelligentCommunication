{
  "nbformat": 4,
  "nbformat_minor": 0,
  "metadata": {
    "colab": {
      "provenance": [],
      "authorship_tag": "ABX9TyMBPjbxGK64uEHyq7Ieo9h5",
      "include_colab_link": true
    },
    "kernelspec": {
      "name": "python3",
      "display_name": "Python 3"
    },
    "language_info": {
      "name": "python"
    }
  },
  "cells": [
    {
      "cell_type": "markdown",
      "metadata": {
        "id": "view-in-github",
        "colab_type": "text"
      },
      "source": [
        "<a href=\"https://colab.research.google.com/github/guilhermelaviola/IntelligentCommunication/blob/main/Class09.ipynb\" target=\"_parent\"><img src=\"https://colab.research.google.com/assets/colab-badge.svg\" alt=\"Open In Colab\"/></a>"
      ]
    },
    {
      "cell_type": "markdown",
      "source": [
        "# **User Management**\n",
        "User management in chatbots is crucial for providing an interactive and personalized experience. It involves creating a data model that includes user information like ID, name, preferences, and interaction history. This data must be stored securely and efficiently. Adding login and registration features can enhance the user experience. User profiles should be managed, allowing users to update their information and customize their preferences. Personalization is essential for providing personalized suggestions based on interaction history and previous preferences. However, data collection must be transparent, in compliance with privacy laws, and users have the option to delete their data. The Python language and SQLite3 database can be used to implement user management in chatbots. Personalization features can be implemented using preference information stored in the database."
      ],
      "metadata": {
        "id": "bgMmV0BdNuOE"
      }
    },
    {
      "cell_type": "code",
      "metadata": {
        "colab": {
          "base_uri": "https://localhost:8080/"
        },
        "id": "2fddc7ca",
        "outputId": "bcb27f8e-46ae-414b-ae0f-cff61bf3e84a"
      },
      "source": [
        "%pip install PyQt5"
      ],
      "execution_count": 1,
      "outputs": [
        {
          "output_type": "stream",
          "name": "stdout",
          "text": [
            "Requirement already satisfied: PyQt5 in /usr/local/lib/python3.12/dist-packages (5.15.11)\n",
            "Requirement already satisfied: PyQt5-sip<13,>=12.15 in /usr/local/lib/python3.12/dist-packages (from PyQt5) (12.17.0)\n",
            "Requirement already satisfied: PyQt5-Qt5<5.16.0,>=5.15.2 in /usr/local/lib/python3.12/dist-packages (from PyQt5) (5.15.17)\n"
          ]
        }
      ]
    },
    {
      "cell_type": "code",
      "execution_count": 2,
      "metadata": {
        "id": "KWullToPL1n8"
      },
      "outputs": [],
      "source": [
        "# Importing all the necessary libraries and resources:\n",
        "import sys\n",
        "import sqlite3\n",
        "import hashlib\n",
        "from PyQt5.QtWidgets import QApplication, QMainWindow, QLabel, QLineEdit, QPushButton, QVBoxLayout, QWidget, QMessageBox"
      ]
    },
    {
      "cell_type": "code",
      "source": [
        "# Connnecting to SQLite database:\n",
        "conn = sqlite3.connect('usuarios.db')\n",
        "cursor = conn.cursor()\n",
        "\n",
        "# Creating 'users' table:\n",
        "cursor.execute('''\n",
        "CREATE TABLE IF NOT EXISTS users (\n",
        "  id INTEGER PRIMARY KEY AUTOINCREMENT,\n",
        "  nome TEXT NOT NULL,\n",
        "  email TEXT NOT NULL UNIQUE,\n",
        "  password TEXT NOT NULL,\n",
        "  preference TEXT\n",
        ")\n",
        "''')\n",
        "\n",
        "conn.commit()"
      ],
      "metadata": {
        "id": "efPbVCC_OQCy"
      },
      "execution_count": 3,
      "outputs": []
    },
    {
      "cell_type": "code",
      "source": [
        "# Function to encrypt the password (using SHA256):\n",
        "def encrypt_password(password):\n",
        "  return hashlib.sha256(password.encode()).hexdigest()\n",
        "\n",
        "# Function to add new user:\n",
        "def add_user(name, email, password, preference):\n",
        "  encrypted_password = encrypt_password(password)\n",
        "  try:\n",
        "    cursor.execute('''\n",
        "    INSERT INTO users (name, email, password, preference)\n",
        "    VALUES (?, ?, ?, ?)\n",
        "    ''', (name, email, encrypted_password, preference))\n",
        "    conn.commit()\n",
        "    return True\n",
        "  except sqlite3.IntegrityError:\n",
        "    return False\n",
        "\n",
        "# Function for user log in:\n",
        "def user_login(email, password):\n",
        "  encrypted_password = encrypt_password(password)\n",
        "  cursor.execute('''\n",
        "  SELECT * FROM users WHERE email = ? AND password = ?\n",
        "  ''', (email, encrypted_password))\n",
        "  user = cursor.fetchone()\n",
        "  return user\n",
        "\n",
        "# Function to edit user profile:\n",
        "def edit_profile(user_id, new_name=None, new_preference=None):\n",
        "  if new_name:\n",
        "    cursor.execute('UPDATE users SET name = ? WHERE id = ?', (new_name, user_id))\n",
        "  if new_preference:\n",
        "    cursor.execute('UPDATE users SET preference = ? WHERE id = ?', (new_preference, user_id))\n",
        "    conn.commit()\n",
        "\n",
        "# Function to personalize user experience:\n",
        "def personalize_experience(user):\n",
        "  preference = user[4]  # Position 4 where the preference is stored.\n",
        "  if preference:\n",
        "    return f'Hello {user[1]}, you like {preference}. Here goes some personalized options!'\n",
        "  else:\n",
        "    return f'Hello {user[1]}, you still have not configured your preferences.'\n",
        "\n",
        "# Class for the main PyQt5 window:\n",
        "class App(QMainWindow):\n",
        "  def __init__(self):\n",
        "    super().__init__()\n",
        "    self.logged_user = None\n",
        "    self.initUI()"
      ],
      "metadata": {
        "colab": {
          "base_uri": "https://localhost:8080/",
          "height": 211
        },
        "id": "V4wY8DB-XAvj",
        "outputId": "d46187ea-1c5b-4511-f27e-24f5e0cc908b"
      },
      "execution_count": 1,
      "outputs": [
        {
          "output_type": "error",
          "ename": "NameError",
          "evalue": "name 'QMainWindow' is not defined",
          "traceback": [
            "\u001b[0;31m---------------------------------------------------------------------------\u001b[0m",
            "\u001b[0;31mNameError\u001b[0m                                 Traceback (most recent call last)",
            "\u001b[0;32m/tmp/ipython-input-1140900722.py\u001b[0m in \u001b[0;36m<cell line: 0>\u001b[0;34m()\u001b[0m\n\u001b[1;32m     42\u001b[0m \u001b[0;34m\u001b[0m\u001b[0m\n\u001b[1;32m     43\u001b[0m \u001b[0;31m# Class for the main PyQt5 window:\u001b[0m\u001b[0;34m\u001b[0m\u001b[0;34m\u001b[0m\u001b[0m\n\u001b[0;32m---> 44\u001b[0;31m \u001b[0;32mclass\u001b[0m \u001b[0mApp\u001b[0m\u001b[0;34m(\u001b[0m\u001b[0mQMainWindow\u001b[0m\u001b[0;34m)\u001b[0m\u001b[0;34m:\u001b[0m\u001b[0;34m\u001b[0m\u001b[0;34m\u001b[0m\u001b[0m\n\u001b[0m\u001b[1;32m     45\u001b[0m   \u001b[0;32mdef\u001b[0m \u001b[0m__init__\u001b[0m\u001b[0;34m(\u001b[0m\u001b[0mself\u001b[0m\u001b[0;34m)\u001b[0m\u001b[0;34m:\u001b[0m\u001b[0;34m\u001b[0m\u001b[0;34m\u001b[0m\u001b[0m\n\u001b[1;32m     46\u001b[0m     \u001b[0msuper\u001b[0m\u001b[0;34m(\u001b[0m\u001b[0;34m)\u001b[0m\u001b[0;34m.\u001b[0m\u001b[0m__init__\u001b[0m\u001b[0;34m(\u001b[0m\u001b[0;34m)\u001b[0m\u001b[0;34m\u001b[0m\u001b[0;34m\u001b[0m\u001b[0m\n",
            "\u001b[0;31mNameError\u001b[0m: name 'QMainWindow' is not defined"
          ]
        }
      ]
    },
    {
      "cell_type": "code",
      "source": [
        "def initUI(self):\n",
        "    self.setWindowTitle('User System with PyQt5')\n",
        "    self.setGeometry(100, 100, 400, 300)\n",
        "\n",
        "    layout = QVBoxLayout()\n",
        "\n",
        "    self.label = QLabel('Welcome to our User System,', self)\n",
        "    layout.addWidget(self.label)\n",
        "\n",
        "    self.input_email = QLineEdit(self)\n",
        "    self.input_email.setPlaceholderText('Email')\n",
        "    layout.addWidget(self.input_email)\n",
        "\n",
        "    self.input_password = QLineEdit(self)\n",
        "    self.input_password.setPlaceholderText('password')\n",
        "    self.input_password.setEchoMode(QLineEdit.Password)\n",
        "    layout.addWidget(self.input_password)\n",
        "\n",
        "    self.login_btn = QPushButton('Login', self)\n",
        "    self.login_btn.clicked.connect(self.log_in)\n",
        "    layout.addWidget(self.login_btn)\n",
        "\n",
        "    self.register_btn = QPushButton('register', self)\n",
        "    self.register_btn.clicked.connect(self.register)\n",
        "    layout.addWidget(self.register_btn)\n",
        "\n",
        "    container = QWidget()\n",
        "    container.setLayout(layout)\n",
        "    self.setCentralWidget(container)\n",
        "\n",
        "    def log_in(self):\n",
        "      email = self.input_email.text()\n",
        "      password = self.input_password.text()\n",
        "\n",
        "      user = user_login(email, password)\n",
        "      if user:\n",
        "        self.logged_user = user\n",
        "        self.label.setText(f'Welcome, {user[1]}!')\n",
        "        self.open_profile_window()\n",
        "      else:\n",
        "        QMessageBox.warning(self, 'Erro', 'Wrong email or password.')\n",
        "\n",
        "    def register(self):\n",
        "      name = self.input_email.text()\n",
        "      email = self.input_email.text()\n",
        "      password = self.input_password.text()\n",
        "      preference = 'books'  # Exemple of initial preference\n",
        "\n",
        "      if add_user(name, email, password, preference):\n",
        "        QMessageBox.information(self, 'Success', 'User was successfully registered!')\n",
        "      else:\n",
        "        QMessageBox.warning(self, 'Error', 'Error registering user. This email has already been registered.')\n",
        "\n",
        "    def open_profile_window(self):\n",
        "      self.input_email.hide()\n",
        "      self.input_password.hide()\n",
        "      self.login_btn.hide()\n",
        "      self.register_btn.hide()\n",
        "\n",
        "      self.label.setText(f'Hello {self.logged_user[1]}, you are logged in!')\n",
        "\n",
        "      self.btn_edit_profile = QPushButton('Edit Profile', self)\n",
        "      self.btn_edit_profile.clicked.connect(self.edit_profile)\n",
        "      self.centralWidget().layout().addWidget(self.btn_edit_profile)\n",
        "\n",
        "      self.btn_personalizar = QPushButton('Personalize Experience', self)\n",
        "      self.btn_personalizar.clicked.connect(self.personalize_experience)\n",
        "      self.centralWidget().layout().addWidget(self.btn_personalizar)\n",
        "\n",
        "      def edit_profile(self):\n",
        "        new_name, ok = QInputDialog.getText(self, 'Edit name', 'Enter your new name:')\n",
        "        new_preference, ok = QInputDialog.getText(self, 'Edit Preference', 'Enter your new preference:')\n",
        "\n",
        "        edit_profile(self.logged_user[0], new_name=new_name, new_preference=new_preference)\n",
        "        QMessageBox.information(self, 'Success', 'Profile updated successfully!')\n",
        "\n",
        "      def personalize_experience(self):\n",
        "        message = personalize_experience(self.logged_user)\n",
        "        QMessageBox.information(self, 'Personalization', message)\n",
        "\n",
        "# Executing the app:\n",
        "if __name__ == '__main__':\n",
        "  app = QApplication(sys.argv)\n",
        "  ex = App()\n",
        "  ex.show()\n",
        "  sys.exit(app.exec_())"
      ],
      "metadata": {
        "id": "l4ISpjuEl4ag"
      },
      "execution_count": null,
      "outputs": []
    }
  ]
}
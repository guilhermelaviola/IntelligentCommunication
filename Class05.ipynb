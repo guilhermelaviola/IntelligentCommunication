{
  "nbformat": 4,
  "nbformat_minor": 0,
  "metadata": {
    "colab": {
      "provenance": [],
      "authorship_tag": "ABX9TyNxZ4vWj4mNeqx/c8c91c0q",
      "include_colab_link": true
    },
    "kernelspec": {
      "name": "python3",
      "display_name": "Python 3"
    },
    "language_info": {
      "name": "python"
    }
  },
  "cells": [
    {
      "cell_type": "markdown",
      "metadata": {
        "id": "view-in-github",
        "colab_type": "text"
      },
      "source": [
        "<a href=\"https://colab.research.google.com/github/guilhermelaviola/IntelligentCommunication/blob/main/Class05.ipynb\" target=\"_parent\"><img src=\"https://colab.research.google.com/assets/colab-badge.svg\" alt=\"Open In Colab\"/></a>"
      ]
    },
    {
      "cell_type": "code",
      "execution_count": 1,
      "metadata": {
        "id": "FUZoeEOcVwue"
      },
      "outputs": [],
      "source": [
        "# Importing all the necessary libraries and resources:\n",
        "import sqlite3"
      ]
    },
    {
      "cell_type": "code",
      "source": [
        "# Connecting to the database (or create a new one if there's no database yet):\n",
        "conn = sqlite3.connect('example.db')\n",
        "\n",
        "# Creating a cursor to execute SQL commands:\n",
        "cursor = conn.cursor()\n",
        "\n",
        "# Creating a SQL table\n",
        "cursor.execute('''\n",
        "CREATE TABLE IF NOT EXISTS people (\n",
        "  id INTEGER PRIMARY KEY AUTOINCREMENT,\n",
        "  name TEXT NOT NULL,\n",
        "  age INTEGER NOT NULL\n",
        ")\n",
        "''')\n",
        "\n",
        "# Inserting data into the table:\n",
        "cursor.execute('INSERT INTO people (name, age) VALUES (?, ?)', ('Alice', 30))\n",
        "cursor.execute('INSERT INTO people (name, age) VALUES (?, ?)', ('Bob', 25))\n",
        "\n",
        "# Saving the changes (commit):\n",
        "conn.commit()\n",
        "\n",
        "# Retrieving data:\n",
        "cursor.execute('SELECT * FROM people')\n",
        "rows = cursor.fetchall()\n",
        "\n",
        "# Displaying the data:\n",
        "for row in rows:\n",
        "  print(row)\n",
        "\n",
        "# Closing the connection:\n",
        "conn.close()\n"
      ],
      "metadata": {
        "colab": {
          "base_uri": "https://localhost:8080/"
        },
        "id": "mwdlrhJIV1Oc",
        "outputId": "37ea84a7-2999-4438-c241-78ac4e002e71"
      },
      "execution_count": 3,
      "outputs": [
        {
          "output_type": "stream",
          "name": "stdout",
          "text": [
            "(1, 'Alice', 30)\n",
            "(2, 'Bob', 25)\n"
          ]
        }
      ]
    }
  ]
}